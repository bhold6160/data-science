{
 "cells": [
  {
   "cell_type": "code",
   "execution_count": 1,
   "metadata": {},
   "outputs": [],
   "source": [
    "import pandas as pd\n",
    "import numpy as np\n",
    "import matplotlib as plt\n",
    "from datetime import date\n",
    "from statistics import median"
   ]
  },
  {
   "cell_type": "code",
   "execution_count": 22,
   "metadata": {},
   "outputs": [
    {
     "data": {
      "text/html": [
       "<div>\n",
       "<style scoped>\n",
       "    .dataframe tbody tr th:only-of-type {\n",
       "        vertical-align: middle;\n",
       "    }\n",
       "\n",
       "    .dataframe tbody tr th {\n",
       "        vertical-align: top;\n",
       "    }\n",
       "\n",
       "    .dataframe thead th {\n",
       "        text-align: right;\n",
       "    }\n",
       "</style>\n",
       "<table border=\"1\" class=\"dataframe\">\n",
       "  <thead>\n",
       "    <tr style=\"text-align: right;\">\n",
       "      <th></th>\n",
       "      <th>color</th>\n",
       "      <th>director_name</th>\n",
       "      <th>num_critic_for_reviews</th>\n",
       "      <th>duration</th>\n",
       "      <th>director_facebook_likes</th>\n",
       "      <th>actor_3_facebook_likes</th>\n",
       "      <th>actor_2_name</th>\n",
       "      <th>actor_1_facebook_likes</th>\n",
       "      <th>gross</th>\n",
       "      <th>genres</th>\n",
       "      <th>...</th>\n",
       "      <th>num_user_for_reviews</th>\n",
       "      <th>language</th>\n",
       "      <th>country</th>\n",
       "      <th>content_rating</th>\n",
       "      <th>budget</th>\n",
       "      <th>title_year</th>\n",
       "      <th>actor_2_facebook_likes</th>\n",
       "      <th>imdb_score</th>\n",
       "      <th>aspect_ratio</th>\n",
       "      <th>movie_facebook_likes</th>\n",
       "    </tr>\n",
       "  </thead>\n",
       "  <tbody>\n",
       "    <tr>\n",
       "      <th>0</th>\n",
       "      <td>Color</td>\n",
       "      <td>James Cameron</td>\n",
       "      <td>723.0</td>\n",
       "      <td>178.0</td>\n",
       "      <td>0.0</td>\n",
       "      <td>855.0</td>\n",
       "      <td>Joel David Moore</td>\n",
       "      <td>1000.0</td>\n",
       "      <td>760505847.0</td>\n",
       "      <td>Action|Adventure|Fantasy|Sci-Fi</td>\n",
       "      <td>...</td>\n",
       "      <td>3054.0</td>\n",
       "      <td>English</td>\n",
       "      <td>USA</td>\n",
       "      <td>PG-13</td>\n",
       "      <td>237000000.0</td>\n",
       "      <td>2009.0</td>\n",
       "      <td>936.0</td>\n",
       "      <td>7.9</td>\n",
       "      <td>1.78</td>\n",
       "      <td>33000</td>\n",
       "    </tr>\n",
       "    <tr>\n",
       "      <th>1</th>\n",
       "      <td>Color</td>\n",
       "      <td>Gore Verbinski</td>\n",
       "      <td>302.0</td>\n",
       "      <td>169.0</td>\n",
       "      <td>563.0</td>\n",
       "      <td>1000.0</td>\n",
       "      <td>Orlando Bloom</td>\n",
       "      <td>40000.0</td>\n",
       "      <td>309404152.0</td>\n",
       "      <td>Action|Adventure|Fantasy</td>\n",
       "      <td>...</td>\n",
       "      <td>1238.0</td>\n",
       "      <td>English</td>\n",
       "      <td>USA</td>\n",
       "      <td>PG-13</td>\n",
       "      <td>300000000.0</td>\n",
       "      <td>2007.0</td>\n",
       "      <td>5000.0</td>\n",
       "      <td>7.1</td>\n",
       "      <td>2.35</td>\n",
       "      <td>0</td>\n",
       "    </tr>\n",
       "    <tr>\n",
       "      <th>2</th>\n",
       "      <td>Color</td>\n",
       "      <td>Sam Mendes</td>\n",
       "      <td>602.0</td>\n",
       "      <td>148.0</td>\n",
       "      <td>0.0</td>\n",
       "      <td>161.0</td>\n",
       "      <td>Rory Kinnear</td>\n",
       "      <td>11000.0</td>\n",
       "      <td>200074175.0</td>\n",
       "      <td>Action|Adventure|Thriller</td>\n",
       "      <td>...</td>\n",
       "      <td>994.0</td>\n",
       "      <td>English</td>\n",
       "      <td>UK</td>\n",
       "      <td>PG-13</td>\n",
       "      <td>245000000.0</td>\n",
       "      <td>2015.0</td>\n",
       "      <td>393.0</td>\n",
       "      <td>6.8</td>\n",
       "      <td>2.35</td>\n",
       "      <td>85000</td>\n",
       "    </tr>\n",
       "    <tr>\n",
       "      <th>3</th>\n",
       "      <td>Color</td>\n",
       "      <td>Christopher Nolan</td>\n",
       "      <td>813.0</td>\n",
       "      <td>164.0</td>\n",
       "      <td>22000.0</td>\n",
       "      <td>23000.0</td>\n",
       "      <td>Christian Bale</td>\n",
       "      <td>27000.0</td>\n",
       "      <td>448130642.0</td>\n",
       "      <td>Action|Thriller</td>\n",
       "      <td>...</td>\n",
       "      <td>2701.0</td>\n",
       "      <td>English</td>\n",
       "      <td>USA</td>\n",
       "      <td>PG-13</td>\n",
       "      <td>250000000.0</td>\n",
       "      <td>2012.0</td>\n",
       "      <td>23000.0</td>\n",
       "      <td>8.5</td>\n",
       "      <td>2.35</td>\n",
       "      <td>164000</td>\n",
       "    </tr>\n",
       "    <tr>\n",
       "      <th>4</th>\n",
       "      <td>NaN</td>\n",
       "      <td>Doug Walker</td>\n",
       "      <td>NaN</td>\n",
       "      <td>NaN</td>\n",
       "      <td>131.0</td>\n",
       "      <td>NaN</td>\n",
       "      <td>Rob Walker</td>\n",
       "      <td>131.0</td>\n",
       "      <td>NaN</td>\n",
       "      <td>Documentary</td>\n",
       "      <td>...</td>\n",
       "      <td>NaN</td>\n",
       "      <td>NaN</td>\n",
       "      <td>NaN</td>\n",
       "      <td>NaN</td>\n",
       "      <td>NaN</td>\n",
       "      <td>NaN</td>\n",
       "      <td>12.0</td>\n",
       "      <td>7.1</td>\n",
       "      <td>NaN</td>\n",
       "      <td>0</td>\n",
       "    </tr>\n",
       "    <tr>\n",
       "      <th>5</th>\n",
       "      <td>Color</td>\n",
       "      <td>Andrew Stanton</td>\n",
       "      <td>462.0</td>\n",
       "      <td>132.0</td>\n",
       "      <td>475.0</td>\n",
       "      <td>530.0</td>\n",
       "      <td>Samantha Morton</td>\n",
       "      <td>640.0</td>\n",
       "      <td>73058679.0</td>\n",
       "      <td>Action|Adventure|Sci-Fi</td>\n",
       "      <td>...</td>\n",
       "      <td>738.0</td>\n",
       "      <td>English</td>\n",
       "      <td>USA</td>\n",
       "      <td>PG-13</td>\n",
       "      <td>263700000.0</td>\n",
       "      <td>2012.0</td>\n",
       "      <td>632.0</td>\n",
       "      <td>6.6</td>\n",
       "      <td>2.35</td>\n",
       "      <td>24000</td>\n",
       "    </tr>\n",
       "    <tr>\n",
       "      <th>6</th>\n",
       "      <td>Color</td>\n",
       "      <td>Sam Raimi</td>\n",
       "      <td>392.0</td>\n",
       "      <td>156.0</td>\n",
       "      <td>0.0</td>\n",
       "      <td>4000.0</td>\n",
       "      <td>James Franco</td>\n",
       "      <td>24000.0</td>\n",
       "      <td>336530303.0</td>\n",
       "      <td>Action|Adventure|Romance</td>\n",
       "      <td>...</td>\n",
       "      <td>1902.0</td>\n",
       "      <td>English</td>\n",
       "      <td>USA</td>\n",
       "      <td>PG-13</td>\n",
       "      <td>258000000.0</td>\n",
       "      <td>2007.0</td>\n",
       "      <td>11000.0</td>\n",
       "      <td>6.2</td>\n",
       "      <td>2.35</td>\n",
       "      <td>0</td>\n",
       "    </tr>\n",
       "    <tr>\n",
       "      <th>7</th>\n",
       "      <td>Color</td>\n",
       "      <td>Nathan Greno</td>\n",
       "      <td>324.0</td>\n",
       "      <td>100.0</td>\n",
       "      <td>15.0</td>\n",
       "      <td>284.0</td>\n",
       "      <td>Donna Murphy</td>\n",
       "      <td>799.0</td>\n",
       "      <td>200807262.0</td>\n",
       "      <td>Adventure|Animation|Comedy|Family|Fantasy|Musi...</td>\n",
       "      <td>...</td>\n",
       "      <td>387.0</td>\n",
       "      <td>English</td>\n",
       "      <td>USA</td>\n",
       "      <td>PG</td>\n",
       "      <td>260000000.0</td>\n",
       "      <td>2010.0</td>\n",
       "      <td>553.0</td>\n",
       "      <td>7.8</td>\n",
       "      <td>1.85</td>\n",
       "      <td>29000</td>\n",
       "    </tr>\n",
       "    <tr>\n",
       "      <th>8</th>\n",
       "      <td>Color</td>\n",
       "      <td>Joss Whedon</td>\n",
       "      <td>635.0</td>\n",
       "      <td>141.0</td>\n",
       "      <td>0.0</td>\n",
       "      <td>19000.0</td>\n",
       "      <td>Robert Downey Jr.</td>\n",
       "      <td>26000.0</td>\n",
       "      <td>458991599.0</td>\n",
       "      <td>Action|Adventure|Sci-Fi</td>\n",
       "      <td>...</td>\n",
       "      <td>1117.0</td>\n",
       "      <td>English</td>\n",
       "      <td>USA</td>\n",
       "      <td>PG-13</td>\n",
       "      <td>250000000.0</td>\n",
       "      <td>2015.0</td>\n",
       "      <td>21000.0</td>\n",
       "      <td>7.5</td>\n",
       "      <td>2.35</td>\n",
       "      <td>118000</td>\n",
       "    </tr>\n",
       "    <tr>\n",
       "      <th>9</th>\n",
       "      <td>Color</td>\n",
       "      <td>David Yates</td>\n",
       "      <td>375.0</td>\n",
       "      <td>153.0</td>\n",
       "      <td>282.0</td>\n",
       "      <td>10000.0</td>\n",
       "      <td>Daniel Radcliffe</td>\n",
       "      <td>25000.0</td>\n",
       "      <td>301956980.0</td>\n",
       "      <td>Adventure|Family|Fantasy|Mystery</td>\n",
       "      <td>...</td>\n",
       "      <td>973.0</td>\n",
       "      <td>English</td>\n",
       "      <td>UK</td>\n",
       "      <td>PG</td>\n",
       "      <td>250000000.0</td>\n",
       "      <td>2009.0</td>\n",
       "      <td>11000.0</td>\n",
       "      <td>7.5</td>\n",
       "      <td>2.35</td>\n",
       "      <td>10000</td>\n",
       "    </tr>\n",
       "    <tr>\n",
       "      <th>10</th>\n",
       "      <td>Color</td>\n",
       "      <td>Zack Snyder</td>\n",
       "      <td>673.0</td>\n",
       "      <td>183.0</td>\n",
       "      <td>0.0</td>\n",
       "      <td>2000.0</td>\n",
       "      <td>Lauren Cohan</td>\n",
       "      <td>15000.0</td>\n",
       "      <td>330249062.0</td>\n",
       "      <td>Action|Adventure|Sci-Fi</td>\n",
       "      <td>...</td>\n",
       "      <td>3018.0</td>\n",
       "      <td>English</td>\n",
       "      <td>USA</td>\n",
       "      <td>PG-13</td>\n",
       "      <td>250000000.0</td>\n",
       "      <td>2016.0</td>\n",
       "      <td>4000.0</td>\n",
       "      <td>6.9</td>\n",
       "      <td>2.35</td>\n",
       "      <td>197000</td>\n",
       "    </tr>\n",
       "    <tr>\n",
       "      <th>11</th>\n",
       "      <td>Color</td>\n",
       "      <td>Bryan Singer</td>\n",
       "      <td>434.0</td>\n",
       "      <td>169.0</td>\n",
       "      <td>0.0</td>\n",
       "      <td>903.0</td>\n",
       "      <td>Marlon Brando</td>\n",
       "      <td>18000.0</td>\n",
       "      <td>200069408.0</td>\n",
       "      <td>Action|Adventure|Sci-Fi</td>\n",
       "      <td>...</td>\n",
       "      <td>2367.0</td>\n",
       "      <td>English</td>\n",
       "      <td>USA</td>\n",
       "      <td>PG-13</td>\n",
       "      <td>209000000.0</td>\n",
       "      <td>2006.0</td>\n",
       "      <td>10000.0</td>\n",
       "      <td>6.1</td>\n",
       "      <td>2.35</td>\n",
       "      <td>0</td>\n",
       "    </tr>\n",
       "    <tr>\n",
       "      <th>12</th>\n",
       "      <td>Color</td>\n",
       "      <td>Marc Forster</td>\n",
       "      <td>403.0</td>\n",
       "      <td>106.0</td>\n",
       "      <td>395.0</td>\n",
       "      <td>393.0</td>\n",
       "      <td>Mathieu Amalric</td>\n",
       "      <td>451.0</td>\n",
       "      <td>168368427.0</td>\n",
       "      <td>Action|Adventure</td>\n",
       "      <td>...</td>\n",
       "      <td>1243.0</td>\n",
       "      <td>English</td>\n",
       "      <td>UK</td>\n",
       "      <td>PG-13</td>\n",
       "      <td>200000000.0</td>\n",
       "      <td>2008.0</td>\n",
       "      <td>412.0</td>\n",
       "      <td>6.7</td>\n",
       "      <td>2.35</td>\n",
       "      <td>0</td>\n",
       "    </tr>\n",
       "    <tr>\n",
       "      <th>13</th>\n",
       "      <td>Color</td>\n",
       "      <td>Gore Verbinski</td>\n",
       "      <td>313.0</td>\n",
       "      <td>151.0</td>\n",
       "      <td>563.0</td>\n",
       "      <td>1000.0</td>\n",
       "      <td>Orlando Bloom</td>\n",
       "      <td>40000.0</td>\n",
       "      <td>423032628.0</td>\n",
       "      <td>Action|Adventure|Fantasy</td>\n",
       "      <td>...</td>\n",
       "      <td>1832.0</td>\n",
       "      <td>English</td>\n",
       "      <td>USA</td>\n",
       "      <td>PG-13</td>\n",
       "      <td>225000000.0</td>\n",
       "      <td>2006.0</td>\n",
       "      <td>5000.0</td>\n",
       "      <td>7.3</td>\n",
       "      <td>2.35</td>\n",
       "      <td>5000</td>\n",
       "    </tr>\n",
       "    <tr>\n",
       "      <th>14</th>\n",
       "      <td>Color</td>\n",
       "      <td>Gore Verbinski</td>\n",
       "      <td>450.0</td>\n",
       "      <td>150.0</td>\n",
       "      <td>563.0</td>\n",
       "      <td>1000.0</td>\n",
       "      <td>Ruth Wilson</td>\n",
       "      <td>40000.0</td>\n",
       "      <td>89289910.0</td>\n",
       "      <td>Action|Adventure|Western</td>\n",
       "      <td>...</td>\n",
       "      <td>711.0</td>\n",
       "      <td>English</td>\n",
       "      <td>USA</td>\n",
       "      <td>PG-13</td>\n",
       "      <td>215000000.0</td>\n",
       "      <td>2013.0</td>\n",
       "      <td>2000.0</td>\n",
       "      <td>6.5</td>\n",
       "      <td>2.35</td>\n",
       "      <td>48000</td>\n",
       "    </tr>\n",
       "    <tr>\n",
       "      <th>15</th>\n",
       "      <td>Color</td>\n",
       "      <td>Zack Snyder</td>\n",
       "      <td>733.0</td>\n",
       "      <td>143.0</td>\n",
       "      <td>0.0</td>\n",
       "      <td>748.0</td>\n",
       "      <td>Christopher Meloni</td>\n",
       "      <td>15000.0</td>\n",
       "      <td>291021565.0</td>\n",
       "      <td>Action|Adventure|Fantasy|Sci-Fi</td>\n",
       "      <td>...</td>\n",
       "      <td>2536.0</td>\n",
       "      <td>English</td>\n",
       "      <td>USA</td>\n",
       "      <td>PG-13</td>\n",
       "      <td>225000000.0</td>\n",
       "      <td>2013.0</td>\n",
       "      <td>3000.0</td>\n",
       "      <td>7.2</td>\n",
       "      <td>2.35</td>\n",
       "      <td>118000</td>\n",
       "    </tr>\n",
       "    <tr>\n",
       "      <th>16</th>\n",
       "      <td>Color</td>\n",
       "      <td>Andrew Adamson</td>\n",
       "      <td>258.0</td>\n",
       "      <td>150.0</td>\n",
       "      <td>80.0</td>\n",
       "      <td>201.0</td>\n",
       "      <td>Pierfrancesco Favino</td>\n",
       "      <td>22000.0</td>\n",
       "      <td>141614023.0</td>\n",
       "      <td>Action|Adventure|Family|Fantasy</td>\n",
       "      <td>...</td>\n",
       "      <td>438.0</td>\n",
       "      <td>English</td>\n",
       "      <td>USA</td>\n",
       "      <td>PG</td>\n",
       "      <td>225000000.0</td>\n",
       "      <td>2008.0</td>\n",
       "      <td>216.0</td>\n",
       "      <td>6.6</td>\n",
       "      <td>2.35</td>\n",
       "      <td>0</td>\n",
       "    </tr>\n",
       "    <tr>\n",
       "      <th>17</th>\n",
       "      <td>Color</td>\n",
       "      <td>Joss Whedon</td>\n",
       "      <td>703.0</td>\n",
       "      <td>173.0</td>\n",
       "      <td>0.0</td>\n",
       "      <td>19000.0</td>\n",
       "      <td>Robert Downey Jr.</td>\n",
       "      <td>26000.0</td>\n",
       "      <td>623279547.0</td>\n",
       "      <td>Action|Adventure|Sci-Fi</td>\n",
       "      <td>...</td>\n",
       "      <td>1722.0</td>\n",
       "      <td>English</td>\n",
       "      <td>USA</td>\n",
       "      <td>PG-13</td>\n",
       "      <td>220000000.0</td>\n",
       "      <td>2012.0</td>\n",
       "      <td>21000.0</td>\n",
       "      <td>8.1</td>\n",
       "      <td>1.85</td>\n",
       "      <td>123000</td>\n",
       "    </tr>\n",
       "    <tr>\n",
       "      <th>18</th>\n",
       "      <td>Color</td>\n",
       "      <td>Rob Marshall</td>\n",
       "      <td>448.0</td>\n",
       "      <td>136.0</td>\n",
       "      <td>252.0</td>\n",
       "      <td>1000.0</td>\n",
       "      <td>Sam Claflin</td>\n",
       "      <td>40000.0</td>\n",
       "      <td>241063875.0</td>\n",
       "      <td>Action|Adventure|Fantasy</td>\n",
       "      <td>...</td>\n",
       "      <td>484.0</td>\n",
       "      <td>English</td>\n",
       "      <td>USA</td>\n",
       "      <td>PG-13</td>\n",
       "      <td>250000000.0</td>\n",
       "      <td>2011.0</td>\n",
       "      <td>11000.0</td>\n",
       "      <td>6.7</td>\n",
       "      <td>2.35</td>\n",
       "      <td>58000</td>\n",
       "    </tr>\n",
       "    <tr>\n",
       "      <th>19</th>\n",
       "      <td>Color</td>\n",
       "      <td>Barry Sonnenfeld</td>\n",
       "      <td>451.0</td>\n",
       "      <td>106.0</td>\n",
       "      <td>188.0</td>\n",
       "      <td>718.0</td>\n",
       "      <td>Michael Stuhlbarg</td>\n",
       "      <td>10000.0</td>\n",
       "      <td>179020854.0</td>\n",
       "      <td>Action|Adventure|Comedy|Family|Fantasy|Sci-Fi</td>\n",
       "      <td>...</td>\n",
       "      <td>341.0</td>\n",
       "      <td>English</td>\n",
       "      <td>USA</td>\n",
       "      <td>PG-13</td>\n",
       "      <td>225000000.0</td>\n",
       "      <td>2012.0</td>\n",
       "      <td>816.0</td>\n",
       "      <td>6.8</td>\n",
       "      <td>1.85</td>\n",
       "      <td>40000</td>\n",
       "    </tr>\n",
       "  </tbody>\n",
       "</table>\n",
       "<p>20 rows × 28 columns</p>\n",
       "</div>"
      ],
      "text/plain": [
       "    color      director_name  num_critic_for_reviews  duration  \\\n",
       "0   Color      James Cameron                   723.0     178.0   \n",
       "1   Color     Gore Verbinski                   302.0     169.0   \n",
       "2   Color         Sam Mendes                   602.0     148.0   \n",
       "3   Color  Christopher Nolan                   813.0     164.0   \n",
       "4     NaN        Doug Walker                     NaN       NaN   \n",
       "5   Color     Andrew Stanton                   462.0     132.0   \n",
       "6   Color          Sam Raimi                   392.0     156.0   \n",
       "7   Color       Nathan Greno                   324.0     100.0   \n",
       "8   Color        Joss Whedon                   635.0     141.0   \n",
       "9   Color        David Yates                   375.0     153.0   \n",
       "10  Color        Zack Snyder                   673.0     183.0   \n",
       "11  Color       Bryan Singer                   434.0     169.0   \n",
       "12  Color       Marc Forster                   403.0     106.0   \n",
       "13  Color     Gore Verbinski                   313.0     151.0   \n",
       "14  Color     Gore Verbinski                   450.0     150.0   \n",
       "15  Color        Zack Snyder                   733.0     143.0   \n",
       "16  Color     Andrew Adamson                   258.0     150.0   \n",
       "17  Color        Joss Whedon                   703.0     173.0   \n",
       "18  Color       Rob Marshall                   448.0     136.0   \n",
       "19  Color   Barry Sonnenfeld                   451.0     106.0   \n",
       "\n",
       "    director_facebook_likes  actor_3_facebook_likes          actor_2_name  \\\n",
       "0                       0.0                   855.0      Joel David Moore   \n",
       "1                     563.0                  1000.0         Orlando Bloom   \n",
       "2                       0.0                   161.0          Rory Kinnear   \n",
       "3                   22000.0                 23000.0        Christian Bale   \n",
       "4                     131.0                     NaN            Rob Walker   \n",
       "5                     475.0                   530.0       Samantha Morton   \n",
       "6                       0.0                  4000.0          James Franco   \n",
       "7                      15.0                   284.0          Donna Murphy   \n",
       "8                       0.0                 19000.0     Robert Downey Jr.   \n",
       "9                     282.0                 10000.0      Daniel Radcliffe   \n",
       "10                      0.0                  2000.0          Lauren Cohan   \n",
       "11                      0.0                   903.0         Marlon Brando   \n",
       "12                    395.0                   393.0       Mathieu Amalric   \n",
       "13                    563.0                  1000.0         Orlando Bloom   \n",
       "14                    563.0                  1000.0           Ruth Wilson   \n",
       "15                      0.0                   748.0    Christopher Meloni   \n",
       "16                     80.0                   201.0  Pierfrancesco Favino   \n",
       "17                      0.0                 19000.0     Robert Downey Jr.   \n",
       "18                    252.0                  1000.0           Sam Claflin   \n",
       "19                    188.0                   718.0     Michael Stuhlbarg   \n",
       "\n",
       "    actor_1_facebook_likes        gross  \\\n",
       "0                   1000.0  760505847.0   \n",
       "1                  40000.0  309404152.0   \n",
       "2                  11000.0  200074175.0   \n",
       "3                  27000.0  448130642.0   \n",
       "4                    131.0          NaN   \n",
       "5                    640.0   73058679.0   \n",
       "6                  24000.0  336530303.0   \n",
       "7                    799.0  200807262.0   \n",
       "8                  26000.0  458991599.0   \n",
       "9                  25000.0  301956980.0   \n",
       "10                 15000.0  330249062.0   \n",
       "11                 18000.0  200069408.0   \n",
       "12                   451.0  168368427.0   \n",
       "13                 40000.0  423032628.0   \n",
       "14                 40000.0   89289910.0   \n",
       "15                 15000.0  291021565.0   \n",
       "16                 22000.0  141614023.0   \n",
       "17                 26000.0  623279547.0   \n",
       "18                 40000.0  241063875.0   \n",
       "19                 10000.0  179020854.0   \n",
       "\n",
       "                                               genres         ...           \\\n",
       "0                     Action|Adventure|Fantasy|Sci-Fi         ...            \n",
       "1                            Action|Adventure|Fantasy         ...            \n",
       "2                           Action|Adventure|Thriller         ...            \n",
       "3                                     Action|Thriller         ...            \n",
       "4                                         Documentary         ...            \n",
       "5                             Action|Adventure|Sci-Fi         ...            \n",
       "6                            Action|Adventure|Romance         ...            \n",
       "7   Adventure|Animation|Comedy|Family|Fantasy|Musi...         ...            \n",
       "8                             Action|Adventure|Sci-Fi         ...            \n",
       "9                    Adventure|Family|Fantasy|Mystery         ...            \n",
       "10                            Action|Adventure|Sci-Fi         ...            \n",
       "11                            Action|Adventure|Sci-Fi         ...            \n",
       "12                                   Action|Adventure         ...            \n",
       "13                           Action|Adventure|Fantasy         ...            \n",
       "14                           Action|Adventure|Western         ...            \n",
       "15                    Action|Adventure|Fantasy|Sci-Fi         ...            \n",
       "16                    Action|Adventure|Family|Fantasy         ...            \n",
       "17                            Action|Adventure|Sci-Fi         ...            \n",
       "18                           Action|Adventure|Fantasy         ...            \n",
       "19      Action|Adventure|Comedy|Family|Fantasy|Sci-Fi         ...            \n",
       "\n",
       "   num_user_for_reviews language  country  content_rating       budget  \\\n",
       "0                3054.0  English      USA           PG-13  237000000.0   \n",
       "1                1238.0  English      USA           PG-13  300000000.0   \n",
       "2                 994.0  English       UK           PG-13  245000000.0   \n",
       "3                2701.0  English      USA           PG-13  250000000.0   \n",
       "4                   NaN      NaN      NaN             NaN          NaN   \n",
       "5                 738.0  English      USA           PG-13  263700000.0   \n",
       "6                1902.0  English      USA           PG-13  258000000.0   \n",
       "7                 387.0  English      USA              PG  260000000.0   \n",
       "8                1117.0  English      USA           PG-13  250000000.0   \n",
       "9                 973.0  English       UK              PG  250000000.0   \n",
       "10               3018.0  English      USA           PG-13  250000000.0   \n",
       "11               2367.0  English      USA           PG-13  209000000.0   \n",
       "12               1243.0  English       UK           PG-13  200000000.0   \n",
       "13               1832.0  English      USA           PG-13  225000000.0   \n",
       "14                711.0  English      USA           PG-13  215000000.0   \n",
       "15               2536.0  English      USA           PG-13  225000000.0   \n",
       "16                438.0  English      USA              PG  225000000.0   \n",
       "17               1722.0  English      USA           PG-13  220000000.0   \n",
       "18                484.0  English      USA           PG-13  250000000.0   \n",
       "19                341.0  English      USA           PG-13  225000000.0   \n",
       "\n",
       "    title_year actor_2_facebook_likes imdb_score  aspect_ratio  \\\n",
       "0       2009.0                  936.0        7.9          1.78   \n",
       "1       2007.0                 5000.0        7.1          2.35   \n",
       "2       2015.0                  393.0        6.8          2.35   \n",
       "3       2012.0                23000.0        8.5          2.35   \n",
       "4          NaN                   12.0        7.1           NaN   \n",
       "5       2012.0                  632.0        6.6          2.35   \n",
       "6       2007.0                11000.0        6.2          2.35   \n",
       "7       2010.0                  553.0        7.8          1.85   \n",
       "8       2015.0                21000.0        7.5          2.35   \n",
       "9       2009.0                11000.0        7.5          2.35   \n",
       "10      2016.0                 4000.0        6.9          2.35   \n",
       "11      2006.0                10000.0        6.1          2.35   \n",
       "12      2008.0                  412.0        6.7          2.35   \n",
       "13      2006.0                 5000.0        7.3          2.35   \n",
       "14      2013.0                 2000.0        6.5          2.35   \n",
       "15      2013.0                 3000.0        7.2          2.35   \n",
       "16      2008.0                  216.0        6.6          2.35   \n",
       "17      2012.0                21000.0        8.1          1.85   \n",
       "18      2011.0                11000.0        6.7          2.35   \n",
       "19      2012.0                  816.0        6.8          1.85   \n",
       "\n",
       "   movie_facebook_likes  \n",
       "0                 33000  \n",
       "1                     0  \n",
       "2                 85000  \n",
       "3                164000  \n",
       "4                     0  \n",
       "5                 24000  \n",
       "6                     0  \n",
       "7                 29000  \n",
       "8                118000  \n",
       "9                 10000  \n",
       "10               197000  \n",
       "11                    0  \n",
       "12                    0  \n",
       "13                 5000  \n",
       "14                48000  \n",
       "15               118000  \n",
       "16                    0  \n",
       "17               123000  \n",
       "18                58000  \n",
       "19                40000  \n",
       "\n",
       "[20 rows x 28 columns]"
      ]
     },
     "execution_count": 22,
     "metadata": {},
     "output_type": "execute_result"
    }
   ],
   "source": [
    "df = pd.read_csv('./movie_metadata.csv', error_bad_lines=False)\n",
    "df = df.drop_duplicates()\n",
    "df.head(20)"
   ]
  },
  {
   "cell_type": "code",
   "execution_count": 3,
   "metadata": {},
   "outputs": [
    {
     "data": {
      "text/plain": [
       "0.8101545253863135"
      ]
     },
     "execution_count": 3,
     "metadata": {},
     "output_type": "execute_result"
    }
   ],
   "source": [
    "#What's the probability that a movie was longer than an hour and a half? Two hours?\n",
    "(df['duration'][df.duration > 90].count()) / df.duration.dropna().count()"
   ]
  },
  {
   "cell_type": "code",
   "execution_count": 4,
   "metadata": {},
   "outputs": [
    {
     "data": {
      "text/plain": [
       "0.21312462372065022"
      ]
     },
     "execution_count": 4,
     "metadata": {},
     "output_type": "execute_result"
    }
   ],
   "source": [
    "(df['duration'][df.duration > 120].count()) / df.duration.dropna().count()"
   ]
  },
  {
   "cell_type": "code",
   "execution_count": 5,
   "metadata": {},
   "outputs": [
    {
     "data": {
      "text/plain": [
       "0.005202080832332933"
      ]
     },
     "execution_count": 5,
     "metadata": {},
     "output_type": "execute_result"
    }
   ],
   "source": [
    "#What's the probability that a movie was directed by Stephen Spielberg?\n",
    "steve_movies = df['duration'][df.director_name == 'Steven Spielberg'].count()\n",
    "\n",
    "all_movies = df['movie_title'].count()\n",
    "\n",
    "steve_movies / all_movies"
   ]
  },
  {
   "cell_type": "code",
   "execution_count": 25,
   "metadata": {},
   "outputs": [
    {
     "name": "stderr",
     "output_type": "stream",
     "text": [
      "/Library/Frameworks/Python.framework/Versions/3.6/lib/python3.6/site-packages/ipykernel_launcher.py:3: UserWarning: Boolean Series key will be reindexed to match DataFrame index.\n",
      "  This is separate from the ipykernel package so we can avoid doing imports until\n"
     ]
    },
    {
     "data": {
      "text/plain": [
       "0.35"
      ]
     },
     "execution_count": 25,
     "metadata": {},
     "output_type": "execute_result"
    }
   ],
   "source": [
    "#What's the probability that a movie directed by Clint Eastwood will gross under budget?\n",
    "clint_count = df['director_name'][df.director_name == 'Clint Eastwood'].count()\n",
    "clint_gross = df[df.director_name == 'Clint Eastwood'][df['gross'] < df['budget']].director_name.count()\n",
    "\n",
    "\n",
    "clint_gross / clint_count"
   ]
  },
  {
   "cell_type": "code",
   "execution_count": 7,
   "metadata": {},
   "outputs": [
    {
     "data": {
      "text/plain": [
       "0.492666506371724"
      ]
     },
     "execution_count": 7,
     "metadata": {},
     "output_type": "execute_result"
    }
   ],
   "source": [
    "#What's the probability that a movie generally grossed more than its budget?\n",
    "df[df['gross'] > df['budget']].count()\n",
    "movies_gross_over_budget = 2049\n",
    "\n",
    "df.gross.count()\n",
    "total_gross_movies = 4159\n",
    "\n",
    "movies_gross_over_budget / total_gross_movies"
   ]
  },
  {
   "cell_type": "code",
   "execution_count": 8,
   "metadata": {},
   "outputs": [
    {
     "data": {
      "text/plain": [
       "0.31910766246362754"
      ]
     },
     "execution_count": 8,
     "metadata": {},
     "output_type": "execute_result"
    }
   ],
   "source": [
    "#What's the probability that a movie grossed over the average gross of this data set?\n",
    "total_gross_movies = df.gross.sum()\n",
    "movies_with_gross = df.gross.count()\n",
    "\n",
    "average_gross = total_gross_movies / movies_with_gross\n",
    "\n",
    "above_average = df[df.gross > average_gross].gross.count()\n",
    "\n",
    "above_average / movies_with_gross"
   ]
  },
  {
   "cell_type": "code",
   "execution_count": 9,
   "metadata": {},
   "outputs": [
    {
     "name": "stderr",
     "output_type": "stream",
     "text": [
      "/Library/Frameworks/Python.framework/Versions/3.6/lib/python3.6/site-packages/ipykernel_launcher.py:7: UserWarning: Boolean Series key will be reindexed to match DataFrame index.\n",
      "  import sys\n"
     ]
    },
    {
     "data": {
      "text/plain": [
       "movie_title    0.242897\n",
       "imdb_score     0.242897\n",
       "dtype: float64"
      ]
     },
     "execution_count": 9,
     "metadata": {},
     "output_type": "execute_result"
    }
   ],
   "source": [
    "#For ratings we'll consider a movie with at least a 6/10 to be worth renting, if not seeing in theaters. \n",
    "#A false positive would be a movie that was highly-rated but did poorly in the box office (gross < budget). \n",
    "#A false negative would be a movie that was poorly-rated but did great in the box office (gross > budget).\n",
    "six_or_above = df[df.imdb_score >= 6].imdb_score.count()\n",
    "#33589\n",
    "\n",
    "false_positive_count = df[df.imdb_score >= 6][df.gross < df.budget][['movie_title', 'imdb_score']].count()\n",
    "#1225\n",
    "\n",
    "false_positive_count / df.imdb_score.count()\n",
    "#.242"
   ]
  },
  {
   "cell_type": "code",
   "execution_count": 10,
   "metadata": {},
   "outputs": [
    {
     "name": "stderr",
     "output_type": "stream",
     "text": [
      "/Library/Frameworks/Python.framework/Versions/3.6/lib/python3.6/site-packages/ipykernel_launcher.py:2: UserWarning: Boolean Series key will be reindexed to match DataFrame index.\n",
      "  \n"
     ]
    },
    {
     "data": {
      "text/plain": [
       "movie_title    0.092237\n",
       "imdb_score     0.092237\n",
       "dtype: float64"
      ]
     },
     "execution_count": 10,
     "metadata": {},
     "output_type": "execute_result"
    }
   ],
   "source": [
    "#In the IMDB dataset, what are the false positive and false negative rates? Can you provide some examples of each?\n",
    "false_negative_count = df[df.imdb_score < 6][df.gross > df.budget][['movie_title', 'imdb_score']].count()\n",
    "\n",
    "false_negative_count / df.imdb_score.count()"
   ]
  },
  {
   "cell_type": "code",
   "execution_count": 11,
   "metadata": {},
   "outputs": [
    {
     "data": {
      "text/plain": [
       "1.924857945754717"
      ]
     },
     "execution_count": 11,
     "metadata": {},
     "output_type": "execute_result"
    }
   ],
   "source": [
    "#If I’m a production studio exec and Tom Hanks is starring in my movie but I’m feeling uncertain about \n",
    "#whether we should keep him (will he make as much money as we want?), \n",
    "#tell me should I keep him in the movie or switch him out for Harrison Ford?\n",
    "\n",
    "tom = df[df.actor_1_name == 'Tom Hanks'].gross.mean()\n",
    "tom / df[df.actor_1_name == 'Tom Hanks'].budget.mean()\n",
    "#136023294\n",
    "\n",
    "\n",
    "#Tom Hanks has higher grossing movies on average"
   ]
  },
  {
   "cell_type": "code",
   "execution_count": 12,
   "metadata": {},
   "outputs": [
    {
     "data": {
      "text/plain": [
       "2.8038465588723622"
      ]
     },
     "execution_count": 12,
     "metadata": {},
     "output_type": "execute_result"
    }
   ],
   "source": [
    "harry = df[df.actor_1_name == 'Harrison Ford'].gross.mean()\n",
    "harry / df[df.actor_1_name == 'Harrison Ford'].budget.mean()\n",
    "#135662246"
   ]
  },
  {
   "cell_type": "code",
   "execution_count": 13,
   "metadata": {},
   "outputs": [
    {
     "data": {
      "text/plain": [
       "7.425000000000001"
      ]
     },
     "execution_count": 13,
     "metadata": {},
     "output_type": "execute_result"
    }
   ],
   "source": [
    "#Same as above, but I’m judging on the ratings of the movie instead of the gross/budget.\n",
    "df[df.actor_1_name == 'Tom Hanks'].imdb_score.mean()\n",
    "#7.425"
   ]
  },
  {
   "cell_type": "code",
   "execution_count": 14,
   "metadata": {},
   "outputs": [
    {
     "data": {
      "text/plain": [
       "7.15925925925926"
      ]
     },
     "execution_count": 14,
     "metadata": {},
     "output_type": "execute_result"
    }
   ],
   "source": [
    "df[df.actor_1_name == 'Harrison Ford'].imdb_score.mean()\n",
    "#7.25"
   ]
  },
  {
   "cell_type": "code",
   "execution_count": 15,
   "metadata": {},
   "outputs": [
    {
     "data": {
      "text/plain": [
       "0.13205282112845138"
      ]
     },
     "execution_count": 15,
     "metadata": {},
     "output_type": "execute_result"
    }
   ],
   "source": [
    "#What’s the probability that a movie’s length will be between 1hr 10mins and 1h 30mins?\n",
    "duration_movies = df['duration'][df.duration > 70][df.duration < 90].count()\n",
    "\n",
    "duration_movies / all_movies"
   ]
  },
  {
   "cell_type": "code",
   "execution_count": 16,
   "metadata": {},
   "outputs": [
    {
     "data": {
      "text/plain": [
       "<matplotlib.axes._subplots.AxesSubplot at 0x113e3fe48>"
      ]
     },
     "execution_count": 16,
     "metadata": {},
     "output_type": "execute_result"
    }
   ],
   "source": [
    "#How does the distribution of movie budgets compare to the movie gross values?\n",
    "df[df.budget < 1000000000.0][['budget', 'gross']].plot(x='budget', y='gross', kind='scatter')"
   ]
  },
  {
   "cell_type": "code",
   "execution_count": 17,
   "metadata": {},
   "outputs": [
    {
     "data": {
      "text/plain": [
       "0                    [Action, Adventure, Fantasy, Sci-Fi]\n",
       "1                            [Action, Adventure, Fantasy]\n",
       "2                           [Action, Adventure, Thriller]\n",
       "3                                      [Action, Thriller]\n",
       "4                                           [Documentary]\n",
       "5                             [Action, Adventure, Sci-Fi]\n",
       "6                            [Action, Adventure, Romance]\n",
       "7       [Adventure, Animation, Comedy, Family, Fantasy...\n",
       "8                             [Action, Adventure, Sci-Fi]\n",
       "9                   [Adventure, Family, Fantasy, Mystery]\n",
       "10                            [Action, Adventure, Sci-Fi]\n",
       "11                            [Action, Adventure, Sci-Fi]\n",
       "12                                    [Action, Adventure]\n",
       "13                           [Action, Adventure, Fantasy]\n",
       "14                           [Action, Adventure, Western]\n",
       "15                   [Action, Adventure, Fantasy, Sci-Fi]\n",
       "16                   [Action, Adventure, Family, Fantasy]\n",
       "17                            [Action, Adventure, Sci-Fi]\n",
       "18                           [Action, Adventure, Fantasy]\n",
       "19      [Action, Adventure, Comedy, Family, Fantasy, S...\n",
       "20                                   [Adventure, Fantasy]\n",
       "21                           [Action, Adventure, Fantasy]\n",
       "22                    [Action, Adventure, Drama, History]\n",
       "23                                   [Adventure, Fantasy]\n",
       "24                           [Adventure, Family, Fantasy]\n",
       "25                    [Action, Adventure, Drama, Romance]\n",
       "26                                       [Drama, Romance]\n",
       "27                            [Action, Adventure, Sci-Fi]\n",
       "28                  [Action, Adventure, Sci-Fi, Thriller]\n",
       "29                  [Action, Adventure, Sci-Fi, Thriller]\n",
       "                              ...                        \n",
       "5013                                      [Drama, Family]\n",
       "5014                            [Action, Crime, Thriller]\n",
       "5015                                      [Comedy, Drama]\n",
       "5016                             [Crime, Drama, Thriller]\n",
       "5017                                    [Comedy, Romance]\n",
       "5018                                              [Drama]\n",
       "5019                          [Horror, Mystery, Thriller]\n",
       "5020                            [Drama, Horror, Thriller]\n",
       "5021                             [Comedy, Drama, Romance]\n",
       "5022                                              [Drama]\n",
       "5023                                            [Romance]\n",
       "5024                                   [Sci-Fi, Thriller]\n",
       "5025                              [Comedy, Crime, Horror]\n",
       "5026                              [Drama, Music, Romance]\n",
       "5027                                              [Drama]\n",
       "5028                                             [Horror]\n",
       "5029                   [Crime, Horror, Mystery, Thriller]\n",
       "5030                                              [Drama]\n",
       "5031                           [Comedy, Horror, Thriller]\n",
       "5032                                       [Crime, Drama]\n",
       "5033                            [Drama, Sci-Fi, Thriller]\n",
       "5034                                           [Thriller]\n",
       "5035            [Action, Crime, Drama, Romance, Thriller]\n",
       "5036                                       [Crime, Drama]\n",
       "5037                                      [Comedy, Drama]\n",
       "5038                                      [Comedy, Drama]\n",
       "5039                    [Crime, Drama, Mystery, Thriller]\n",
       "5040                            [Drama, Horror, Thriller]\n",
       "5041                             [Comedy, Drama, Romance]\n",
       "5042                                        [Documentary]\n",
       "Name: genres, Length: 4998, dtype: object"
      ]
     },
     "execution_count": 17,
     "metadata": {},
     "output_type": "execute_result"
    }
   ],
   "source": [
    "#Which genre trends toward the highest gross-to-budget ratio? \n",
    "#You may have to do some extra parsing to answer this question.\n",
    "# pd.DataFrame(df[['genres', 'gross']]).sort_values('gross' ,ascending=False).head(5)\n",
    "\n",
    "df.genres.apply(lambda x: x.split('|'))"
   ]
  },
  {
   "cell_type": "code",
   "execution_count": 18,
   "metadata": {},
   "outputs": [
    {
     "data": {
      "text/plain": [
       "<matplotlib.axes._subplots.AxesSubplot at 0x114544828>"
      ]
     },
     "execution_count": 18,
     "metadata": {},
     "output_type": "execute_result"
    },
    {
     "data": {
      "image/png": "[encoded data removed]",
      "text/plain": [
       "<Figure size 432x288 with 1 Axes>"
      ]
     },
     "metadata": {},
     "output_type": "display_data"
    }
   ],
   "source": [
    "#Nicolas Cage is known for starring in some pretty bad movies. \n",
    "#Are his movies statistically significantly worse (i.e. in rating) than the rest of the IMDB 5000+?\n",
    "df[df.actor_1_name == 'Nicolas Cage'][['imdb_score', 'movie_title']].plot(x='movie_title', y='imdb_score')\n"
   ]
  },
  {
   "cell_type": "code",
   "execution_count": 19,
   "metadata": {},
   "outputs": [
    {
     "data": {
      "text/plain": [
       "title_year\n",
       "2013.0    1.049929e+10\n",
       "2012.0    1.041541e+10\n",
       "2014.0    1.022056e+10\n",
       "2010.0    9.917119e+09\n",
       "2009.0    9.901023e+09\n",
       "Name: gross, dtype: float64"
      ]
     },
     "execution_count": 19,
     "metadata": {},
     "output_type": "execute_result"
    }
   ],
   "source": [
    "#Have any years grossed a statistically-significant higher amount than the other years?\n",
    "\n",
    "gross_yearly = df[['title_year', 'gross']].groupby('title_year')\n",
    "sum_gross = gross_yearly['gross'].sum()\n",
    "sum_gross.sort_values(ascending=False).head()"
   ]
  },
  {
   "cell_type": "code",
   "execution_count": 20,
   "metadata": {},
   "outputs": [
    {
     "data": {
      "text/plain": [
       "<matplotlib.axes._subplots.AxesSubplot at 0x1145ad358>"
      ]
     },
     "execution_count": 20,
     "metadata": {},
     "output_type": "execute_result"
    },
    {
     "data": {
      "image/png": "[encoded data removed]",
      "text/plain": [
       "<Figure size 432x288 with 1 Axes>"
      ]
     },
     "metadata": {},
     "output_type": "display_data"
    }
   ],
   "source": [
    "gross_yearly['title_year'].sum().plot()"
   ]
  },
  {
   "cell_type": "code",
   "execution_count": 21,
   "metadata": {},
   "outputs": [
    {
     "data": {
      "text/plain": [
       "<matplotlib.axes._subplots.AxesSubplot at 0x114652ba8>"
      ]
     },
     "execution_count": 21,
     "metadata": {},
     "output_type": "execute_result"
    },
    {
     "data": {
      "image/png": "[encoded data removed]",
      "text/plain": [
       "<Figure size 432x288 with 1 Axes>"
      ]
     },
     "metadata": {},
     "output_type": "display_data"
    }
   ],
   "source": [
    "df[['director_facebook_likes', 'num_critic_for_reviews']].plot(x='director_facebook_likes', y='num_critic_for_reviews', kind='scatter')\n"
   ]
  }
 ],
 "metadata": {
  "kernelspec": {
   "display_name": "Python 3",
   "language": "python",
   "name": "python3"
  },
  "language_info": {
   "codemirror_mode": {
    "name": "ipython",
    "version": 3
   },
   "file_extension": ".py",
   "mimetype": "text/x-python",
   "name": "python",
   "nbconvert_exporter": "python",
   "pygments_lexer": "ipython3",
   "version": "3.6.3"
  }
 },
 "nbformat": 4,
 "nbformat_minor": 2
}
